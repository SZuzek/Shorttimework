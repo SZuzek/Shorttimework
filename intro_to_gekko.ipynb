{
 "cells": [
  {
   "cell_type": "markdown",
   "metadata": {},
   "source": [
    "# Solve a basic optimal control problem with Gekko.\n",
    "\n",
    "Simon Zuzek - 30/03/2021"
   ]
  },
  {
   "cell_type": "markdown",
   "metadata": {},
   "source": [
    "If gekko is not installed, run ``pip install gekko`` in your shell."
   ]
  },
  {
   "cell_type": "code",
   "execution_count": null,
   "metadata": {},
   "outputs": [],
   "source": [
    "# !pip install gekko"
   ]
  },
  {
   "cell_type": "code",
   "execution_count": null,
   "metadata": {},
   "outputs": [],
   "source": [
    "from gekko import GEKKO\n",
    "import numpy as np\n",
    "import matplotlib.pyplot as plt\n",
    "%matplotlib inline"
   ]
  },
  {
   "cell_type": "markdown",
   "metadata": {},
   "source": [
    "Sources:\n",
    "\n",
    "https://apmonitor.com/wiki/index.php/Main/GekkoPythonOptimization\n",
    "\n",
    "https://www.youtube.com/watch?v=egQAKdJsu7E&list=PLLBUgWXdTBDjxcpH9hRuq-bsm_ti2UvoB&index=11"
   ]
  },
  {
   "cell_type": "markdown",
   "metadata": {},
   "source": [
    "We solve the following problem:\n",
    "\n",
    "$$ min_u \\frac{1}{2} \\int_0^{2} x_1^2(t) dt $$\n",
    "\n",
    "subject to\n",
    "\n",
    "$$ \\frac{dx_1}{dt} = u $$\n",
    "\n",
    "$$ x_1(0) = 1 $$\n",
    "\n",
    "$$ -1 \\leq u(t) \\leq 1 $$"
   ]
  },
  {
   "cell_type": "markdown",
   "metadata": {},
   "source": [
    "In order to solve this with *GEKKO*, we need to transform the objective.\n",
    "Define $x_2(t_f)$ as the objective, and specifiy that $x_2(t)$\n",
    "increments at the rate of $\\frac{1}{2}x_1^2(t)$.\n",
    "\n",
    "The problem is therefore equivalently\n",
    "\n",
    "$$ min_u x_2(t_f) dt $$\n",
    "\n",
    "subject to\n",
    "\n",
    "$$ \\frac{dx_1}{dt} = u $$\n",
    "\n",
    "$$ \\frac{dx_2}{dt} = \\frac{1}{2} x_1^2(t) $$\n",
    "\n",
    "$$ t_f = 2 $$\n",
    "\n",
    "$$ x_1(0) = 1 $$\n",
    "\n",
    "$$ -1 \\leq u(t) \\leq 1 $$\n",
    "\n"
   ]
  },
  {
   "cell_type": "markdown",
   "metadata": {},
   "source": [
    "# Setup and Solve\n",
    "\n",
    "First, intialize a Gekko model and a grid."
   ]
  },
  {
   "cell_type": "code",
   "execution_count": null,
   "metadata": {},
   "outputs": [],
   "source": [
    "m = GEKKO() # initialize gekko\n",
    "nt = 101 # number of points\n",
    "m.time = np.linspace(0,2,nt) # equally spaced 0 and 2"
   ]
  },
  {
   "cell_type": "markdown",
   "metadata": {},
   "source": [
    "**Define Variables**\n",
    "\n",
    "value -- initialized value. Defaults to 0. Should not matter if the variable is actually solved for.\n",
    "lb -- a lower bound\n",
    "ub -- an upper bound"
   ]
  },
  {
   "cell_type": "code",
   "execution_count": null,
   "metadata": {},
   "outputs": [],
   "source": [
    "# Variables\n",
    "x1 = m.Var(value=1)\n",
    "x2 = m.Var(value=0)\n",
    "u = m.Var(value=0,lb=-1,ub=1)\n"
   ]
  },
  {
   "cell_type": "markdown",
   "metadata": {},
   "source": [
    "Set the final parameter - zero everywhere except one at the last point of the grid"
   ]
  },
  {
   "cell_type": "code",
   "execution_count": null,
   "metadata": {},
   "outputs": [],
   "source": [
    "p = np.zeros(nt) # mark final time point\n",
    "p[-1] = 1.0\n",
    "final = m.Param(value=p)"
   ]
  },
  {
   "cell_type": "markdown",
   "metadata": {},
   "source": [
    "**Equations**"
   ]
  },
  {
   "cell_type": "code",
   "execution_count": null,
   "metadata": {},
   "outputs": [
    {
     "data": {
      "text/plain": [
       "<gekko.gekko.EquationObj at 0x2007b0ecac0>"
      ]
     },
     "execution_count": null,
     "metadata": {},
     "output_type": "execute_result"
    }
   ],
   "source": [
    "# Equations\n",
    "m.Equation(x1.dt()==u)\n",
    "m.Equation(x2.dt()==0.5*x1**2)"
   ]
  },
  {
   "cell_type": "markdown",
   "metadata": {},
   "source": [
    "**Objective Function**\n",
    "\n",
    "This is where final is needed, so that only the last value of $x_2$ is taken\n"
   ]
  },
  {
   "cell_type": "code",
   "execution_count": null,
   "metadata": {},
   "outputs": [],
   "source": [
    "m.Obj(x2*final) # Objective function"
   ]
  },
  {
   "cell_type": "markdown",
   "metadata": {},
   "source": [
    "**Change the solver mode**\n",
    "\n",
    "IMODE = 6 ... continuous time optimization\n",
    "\n",
    "disp=False ... do not display the solution"
   ]
  },
  {
   "cell_type": "code",
   "execution_count": null,
   "metadata": {},
   "outputs": [
    {
     "name": "stdout",
     "output_type": "stream",
     "text": [
      "apm 130.60.140.83_gk_model0 <br><pre> ----------------------------------------------------------------\n",
      " APMonitor, Version 1.0.1\n",
      " APMonitor Optimization Suite\n",
      " ----------------------------------------------------------------\n",
      " \n",
      " \n",
      " --------- APM Model Size ------------\n",
      " Each time step contains\n",
      "   Objects      :            0\n",
      "   Constants    :            0\n",
      "   Variables    :            4\n",
      "   Intermediates:            0\n",
      "   Connections  :            0\n",
      "   Equations    :            3\n",
      "   Residuals    :            3\n",
      " \n",
      " Number of state variables:            500\n",
      " Number of total equations: -          400\n",
      " Number of slack variables: -            0\n",
      " ---------------------------------------\n",
      " Degrees of freedom       :            100\n",
      " \n",
      " **********************************************\n",
      " Dynamic Control with Interior Point Solver\n",
      " **********************************************\n",
      "  \n",
      "  \n",
      " Info: Exact Hessian\n",
      "\n",
      "******************************************************************************\n",
      "This program contains Ipopt, a library for large-scale nonlinear optimization.\n",
      " Ipopt is released as open source code under the Eclipse Public License (EPL).\n",
      "         For more information visit http://projects.coin-or.org/Ipopt\n",
      "******************************************************************************\n",
      "\n",
      "This is Ipopt version 3.12.10, running with linear solver ma57.\n",
      "\n",
      "Number of nonzeros in equality constraint Jacobian...:      998\n",
      "Number of nonzeros in inequality constraint Jacobian.:        0\n",
      "Number of nonzeros in Lagrangian Hessian.............:      100\n",
      "\n",
      "Total number of variables............................:      500\n",
      "                     variables with only lower bounds:        0\n",
      "                variables with lower and upper bounds:      100\n",
      "                     variables with only upper bounds:        0\n",
      "Total number of equality constraints.................:      400\n",
      "Total number of inequality constraints...............:        0\n",
      "        inequality constraints with only lower bounds:        0\n",
      "   inequality constraints with lower and upper bounds:        0\n",
      "        inequality constraints with only upper bounds:        0\n",
      "\n",
      "iter    objective    inf_pr   inf_du lg(mu)  ||d||  lg(rg) alpha_du alpha_pr  ls\n",
      "   0  0.0000000e+00 5.00e-01 8.29e-03   0.0 0.00e+00    -  0.00e+00 0.00e+00   0\n",
      "   1  9.7317306e-01 2.00e-04 1.16e-03  -6.0 9.73e-01    -  9.71e-01 1.00e+00h  1\n",
      "   2  4.0119286e-01 9.02e-02 4.44e-16  -2.3 5.72e-01    -  1.00e+00 1.00e+00f  1\n",
      "   3  1.6310287e-01 8.82e-02 1.11e-16  -3.4 4.20e-01    -  1.00e+00 1.00e+00h  1\n",
      "   4  1.7184636e-01 1.55e-02 2.87e-06  -4.1 1.76e-01    -  9.99e-01 1.00e+00h  1\n",
      "   5  1.6547828e-01 5.45e-03 2.44e-04  -4.6 2.86e-01    -  8.60e-01 1.00e+00h  1\n",
      "   6  1.6298261e-01 1.30e-03 6.02e-05  -4.9 3.32e-01    -  9.17e-01 1.00e+00h  1\n",
      "   7  1.6196313e-01 4.12e-04 1.63e-05  -5.5 3.71e-01    -  9.28e-01 1.00e+00h  1\n",
      "   8  1.6175448e-01 1.10e-04 1.39e-07  -6.1 4.01e-01    -  9.98e-01 1.00e+00h  1\n",
      "   9  1.6170941e-01 3.05e-05 5.55e-17  -6.8 2.34e-01    -  1.00e+00 1.00e+00h  1\n",
      "iter    objective    inf_pr   inf_du lg(mu)  ||d||  lg(rg) alpha_du alpha_pr  ls\n",
      "  10  1.6170018e-01 6.54e-06 1.08e-07  -8.8 1.89e-01    -  9.69e-01 1.00e+00h  1\n",
      "Reallocating memory for MA57: lfact (9396)\n",
      "  11  1.6170001e-01 8.70e-07 5.55e-17  -9.8 6.83e-02    -  1.00e+00 1.00e+00h  1\n",
      "\n",
      "Number of Iterations....: 11\n",
      "\n",
      "                                   (scaled)                 (unscaled)\n",
      "Objective...............:   1.6170001214895699e-01    1.6170001214895699e-01\n",
      "Dual infeasibility......:   5.5511151231257827e-17    5.5511151231257827e-17\n",
      "Constraint violation....:   8.7038250779763370e-07    8.7038250779763370e-07\n",
      "Complementarity.........:   2.7795446771618800e-08    2.7795446771618800e-08\n",
      "Overall NLP error.......:   8.7038250779763370e-07    8.7038250779763370e-07\n",
      "\n",
      "\n",
      "Number of objective function evaluations             = 12\n",
      "Number of objective gradient evaluations             = 12\n",
      "Number of equality constraint evaluations            = 12\n",
      "Number of inequality constraint evaluations          = 0\n",
      "Number of equality constraint Jacobian evaluations   = 12\n",
      "Number of inequality constraint Jacobian evaluations = 0\n",
      "Number of Lagrangian Hessian evaluations             = 11\n",
      "Total CPU secs in IPOPT (w/o function evaluations)   =      0.019\n",
      "Total CPU secs in NLP function evaluations           =      0.045\n",
      "\n",
      "EXIT: Optimal Solution Found.\n",
      " \n",
      " The solution was found.\n",
      " \n",
      " The final value of the objective function is   0.161700012148957     \n",
      " \n",
      " ---------------------------------------------------\n",
      " Solver         :  IPOPT (v3.12)\n",
      " Solution time  :   7.480000000214204E-002 sec\n",
      " Objective      :   0.161700012148957     \n",
      " Successful solution\n",
      " ---------------------------------------------------\n",
      " \n"
     ]
    }
   ],
   "source": [
    "m.options.IMODE = 6 # optimal control mode\n",
    "m.solve(disp=True) # solve"
   ]
  },
  {
   "cell_type": "markdown",
   "metadata": {},
   "source": [
    "# Plot Results"
   ]
  },
  {
   "cell_type": "code",
   "execution_count": null,
   "metadata": {},
   "outputs": [
    {
     "data": {
      "image/png": "[encoded data removed]",
      "text/plain": [
       "<Figure size 432x288 with 1 Axes>"
      ]
     },
     "metadata": {
      "needs_background": "light"
     },
     "output_type": "display_data"
    }
   ],
   "source": [
    "plt.figure(1) # plot results\n",
    "plt.plot(m.time,x1.value,'k-',label=r'$x_1$')\n",
    "plt.plot(m.time,x2.value,'b-',label=r'$x_2$')\n",
    "plt.plot(m.time,u.value,'r--',label=r'$u$')\n",
    "plt.legend(loc='best')\n",
    "plt.xlabel('Time')\n",
    "plt.ylabel('Value')\n",
    "plt.show()"
   ]
  },
  {
   "cell_type": "markdown",
   "metadata": {},
   "source": [
    "# Export as .html"
   ]
  },
  {
   "cell_type": "code",
   "execution_count": null,
   "metadata": {},
   "outputs": [
    {
     "name": "stderr",
     "output_type": "stream",
     "text": [
      "[NbConvertApp] WARNING | Config option `kernel_spec_manager_class` not recognized by `NbConvertApp`.\n",
      "[NbConvertApp] Converting notebook gekko.ipynb to html\n",
      "[NbConvertApp] Writing 593206 bytes to gekko.html\n"
     ]
    }
   ],
   "source": [
    "!jupyter nbconvert --to html gekko.ipynb"
   ]
  },
  {
   "cell_type": "code",
   "execution_count": null,
   "metadata": {},
   "outputs": [],
   "source": []
  }
 ],
 "metadata": {
  "kernelspec": {
   "display_name": "Python 3",
   "language": "python",
   "name": "python3"
  }
 },
 "nbformat": 4,
 "nbformat_minor": 4
}
