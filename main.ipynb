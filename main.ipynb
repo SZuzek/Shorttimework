{
 "cells": [
  {
   "cell_type": "markdown",
   "id": "8585cd0a",
   "metadata": {},
   "source": [
    "# Optimal short-time work: Screening for jobs at risk\n",
    "## Numerical solutions\n",
    "26/10/2021"
   ]
  },
  {
   "cell_type": "markdown",
   "id": "213eb1d2",
   "metadata": {},
   "source": [
    "### Model setup"
   ]
  },
  {
   "cell_type": "markdown",
   "id": "bfd5e2d7",
   "metadata": {},
   "source": [
    "- Firm value of an existing job: \n",
    "$$ J(\\theta, n) =  \\theta \\times n  - w(\\theta, n)   $$\n",
    "    \n",
    "    - Assumption: bounded below by $V$: $ J(\\theta, n) \\geq V$\n",
    "        - The firm can always leave a negative value job "
   ]
  },
  {
   "cell_type": "markdown",
   "id": "0e834748",
   "metadata": {},
   "source": [
    "- Worker value when employed\n",
    "    $$ W(\\theta, n) = w(\\theta, n) - c(n) + \\beta \\;  \\mathbb{E}[W(\\theta^\\prime, n^\\prime) | \\theta] $$"
   ]
  },
  {
   "cell_type": "markdown",
   "id": "ecf8d4f9",
   "metadata": {},
   "source": [
    "- Worker value when unemployed \n",
    "    $$ U = b + \\overline{W}$$    \n",
    "    \n",
    "    - The value of unemployment has two components: \n",
    "        - Benefits $b$ - funded by the government while unemployed\n",
    "        - Value of finding a new job $\\overline{W}$"
   ]
  },
  {
   "cell_type": "markdown",
   "id": "4108cae2",
   "metadata": {},
   "source": [
    "- Firms and workers bargain over the total surplus $S$, defined as\n",
    "\n",
    "$$         S(\\theta, n) = (J(\\theta, n) + W(\\theta, n))  - (V + U)  $$\n",
    "\n",
    "$$         =  (\\theta \\times n - c(n)) \\: - \\; U  $$\n",
    "    - The surplus does not depend on the wage. We can assume that firm and worker first jointly maximize the surplus. \n",
    "    - We abstract from how the firm and worker split the surplus    "
   ]
  },
  {
   "cell_type": "markdown",
   "id": "676175e4",
   "metadata": {},
   "source": [
    "### Model"
   ]
  },
  {
   "cell_type": "markdown",
   "id": "131a68d3",
   "metadata": {},
   "source": [
    "We can write the model in terms of the total match surplus of worker and firm as in the paper. We omit the distinction between firm and worker productivity and just take the usual match productivity $\\theta$. \n",
    "Lets call $S$ the joint maximized surplus. \n",
    "\n",
    "$$ S(\\theta) = \\underset{n \\geq 0}{max} \\; S(\\theta, n) $$\n"
   ]
  },
  {
   "cell_type": "markdown",
   "id": "e6007cdb",
   "metadata": {},
   "source": [
    "- the ``social costs`` in our problem arise since the government has to fund $b$, and firm and worker dont take this into account\n",
    "- matches dissolve when the outside option through the unemployment benefits are too high"
   ]
  },
  {
   "cell_type": "markdown",
   "id": "d83128a5",
   "metadata": {},
   "source": [
    "From $S$ we get hours $n(\\theta) = c^{\\prime^{-1}}(\\theta)$ that the firm and worker choose absent any intervention. Aditionally, they dissolve any match with negative joint surplus, such that the outside option is \n",
    "\n",
    "$$ S_O(\\theta) = max \\{0, S\\} $$"
   ]
  },
  {
   "cell_type": "markdown",
   "id": "e21e2855",
   "metadata": {},
   "source": [
    "The policy maker offers an **alternative surplus** $S_A(\\theta, \\tilde{\\theta})$ with transfers $t(\\tilde{\\theta})$, hours $n(\\tilde{\\theta})$ and inclusion $\\iota \\in \\{0,1\\}$.\n",
    "\n",
    "- **Inclusion:** The planner decides whether a match is supported/included or separated. Only in case of separation does the worker search for another job.\n",
    "\n",
    "$$ S_A(\\theta, \\tilde{\\theta}) =  \\iota(\\tilde{\\theta}) * \\left( \\theta \\times n(\\tilde{\\theta}) c(n(\\tilde{\\theta})) \\right)  + t(\\tilde{\\theta}) + (1-\\iota(\\tilde{\\theta}))*\\overline{W} -  U  $$\n",
    "\n",
    "to maximize the following objective: \n",
    "\n",
    "\n",
    "- The planner solves joint surplus - marginal costs of public funds\n",
    "$$ \\mathcal{V} = \\underset{n(\\cdot), t(\\cdot) }{\\operatorname{max}} \\int_\\theta  \\left(  S_A(\\theta) - (1+\\tau) t(\\theta)   \\right) dF(\\theta)  $$\n",
    "    \n"
   ]
  },
  {
   "cell_type": "markdown",
   "id": "5a0326cc",
   "metadata": {},
   "source": [
    "Subject to the participation constraint (individual rationality, ``IR``)\n",
    "$$ S_A \\geq S_O $$\n",
    "- participation in a subsidy cannot be forced (unlike e.g. taxation) \n",
    "- all matches must be at least as well off as when they decide to not participate"
   ]
  },
  {
   "cell_type": "markdown",
   "id": "c1a8e0f6",
   "metadata": {},
   "source": [
    "And subject to the Incentive compatibility constraint (``IC``)"
   ]
  },
  {
   "cell_type": "markdown",
   "id": "c954ade4",
   "metadata": {},
   "source": [
    "$$ S_A(\\theta, \\theta) \\geq S_A(\\theta, \\tilde{\\theta}) \\quad \\forall \\theta, \\tilde{\\theta} $$\n",
    "- all matches must report truthfully\n",
    "\n",
    "- can be written as a differential equation: \n",
    "- ``IC:`` $$ \\frac{\\partial S_A(\\theta)}{\\partial \\theta} = n $$"
   ]
  },
  {
   "cell_type": "markdown",
   "id": "ad06a031",
   "metadata": {},
   "source": [
    "## Rewriting the model \n",
    "``Equations that enter the numerical solution``\n",
    "\n",
    "- $q \\equiv n$ ... old notation, *quantity*\n",
    "- **As an objective, use**\n",
    "$$ \\mathcal{V} = \\underset{q(\\cdot), t(\\cdot) }{\\operatorname{max}} \\int_\\theta  \\left(  S_A  - (1+\\tau) t(\\theta)    \\right) dF(\\theta)  $$\n",
    "\n",
    "- i.e. the **planner maximizes the joint surplus, and uses public funds at excess marginal costs $1+\\tau$ to fund transfers to firms.**\n",
    "\n",
    "\n",
    "\n",
    "In order to use the tools, we write the model in terms of the state $S_A$, control $q$ and an auxilliary final state $S_{A,f}$. \n",
    "\n",
    "with \n",
    "\n",
    "1. **IC constraint** \n",
    "\n",
    "$$ \\frac{\\partial S_A(\\theta)}{\\partial \\theta} = q $$ \n",
    "\n",
    "2. **technical constraint** \n",
    "\n",
    "$$ \\frac{\\partial S_{A,f}(\\theta)}{\\partial \\theta} = S_A - (1+\\tau) t(\\theta)  $$\n",
    "\n",
    "3. **hours constraint** \n",
    "    \n",
    "    $$ q \\geq 0$$\n",
    "\n",
    "4. **IR constraints** \n",
    "\n",
    "$$ S_A(\\theta) \\geq 0 $$ \n",
    "\n",
    "$$ S_A(\\theta) \\geq S(\\theta)$$\n",
    "\n"
   ]
  },
  {
   "cell_type": "markdown",
   "id": "89b14a9b",
   "metadata": {},
   "source": [
    "# Setup "
   ]
  },
  {
   "cell_type": "code",
   "execution_count": null,
   "id": "375b3ff8",
   "metadata": {},
   "outputs": [],
   "source": [
    "# !pip install gekko\n",
    "import gekko\n",
    "import numpy as np\n",
    "from scipy import stats\n",
    "import unittest\n",
    "import pickle\n",
    "import os\n",
    "import matplotlib.pyplot as plt\n",
    "from scipy import stats\n",
    "import scipy.integrate as integrate\n",
    "import scipy.optimize as optimize\n",
    "from scipy import interpolate\n",
    "import copy\n",
    "\n",
    "import multiprocessing\n",
    "\n",
    "%matplotlib inline"
   ]
  },
  {
   "cell_type": "code",
   "execution_count": null,
   "id": "97bd5d1e-5683-4013-bf58-dcc8f6bdf184",
   "metadata": {},
   "outputs": [],
   "source": [
    "import importlib\n",
    "\n",
    "from STW.model import STW, moments\n",
    "from STW.plotting import plot_gekko, plot_presi\n",
    "from STW.calibration import Calibration"
   ]
  },
  {
   "cell_type": "markdown",
   "id": "2614d0d8",
   "metadata": {},
   "source": [
    "# Results"
   ]
  },
  {
   "cell_type": "markdown",
   "id": "90ffa414-b2f4-4372-b905-96879d948698",
   "metadata": {},
   "source": [
    "#### Main result: Constraint-optimal (second-best) solution \n",
    "- inefficient separations (positive search value)\n",
    "- flexible participation decision \n",
    "- imperfect information\n",
    "\n",
    "Since the marginal costs of public funds > 1 (MCPF = (1+tau) here), the planner would use the public funds to change the allocation and keep some workers in STW. The reason is that the joint-surplus-maximizers are not taking into account that the value of unemployment has to be funded by the public. "
   ]
  },
  {
   "cell_type": "code",
   "execution_count": null,
   "id": "669a13bd-99af-4804-b121-2ae875837dc5",
   "metadata": {},
   "outputs": [
    {
     "data": {
      "image/png": "[encoded data removed]",
      "text/plain": [
       "<Figure size 432x288 with 1 Axes>"
      ]
     },
     "metadata": {
      "needs_background": "light"
     },
     "output_type": "display_data"
    },
    {
     "name": "stdout",
     "output_type": "stream",
     "text": [
      "0.1318307565\n"
     ]
    },
    {
     "data": {
      "image/png": "[encoded data removed]",
      "text/plain": [
       "<Figure size 432x288 with 1 Axes>"
      ]
     },
     "metadata": {
      "needs_background": "light"
     },
     "output_type": "display_data"
    },
    {
     "data": {
      "image/png": "[encoded data removed]",
      "text/plain": [
       "<Figure size 432x288 with 1 Axes>"
      ]
     },
     "metadata": {
      "needs_background": "light"
     },
     "output_type": "display_data"
    }
   ],
   "source": [
    "stw = STW(display = False, A=0.2, U = 0.2, search = 0.1, beta = 0.0, tau = 0.5, phi = 3.0, \n",
    "          qup = 2, nt = 301, information = \"imperfect\", participation = \"flex\")\n",
    "stw.init_gekko()\n",
    "stw.solve_gekko()\n",
    "plot_gekko(stw)\n",
    "\n",
    "plot_presi(stw, \"transfers\")\n",
    "plot_presi(stw, \"n\")\n",
    "# objective value\n",
    "print(stw.value[-1]) "
   ]
  },
  {
   "cell_type": "code",
   "execution_count": null,
   "id": "ca2e6fae-44a8-496f-8107-42c0b4be4b8b",
   "metadata": {},
   "outputs": [
    {
     "data": {
      "text/plain": [
       "Text(0.5, 1.0, 'Transfer as a function hours')"
      ]
     },
     "execution_count": null,
     "metadata": {},
     "output_type": "execute_result"
    },
    {
     "data": {
      "image/png": "[encoded data removed]",
      "text/plain": [
       "<Figure size 432x288 with 1 Axes>"
      ]
     },
     "metadata": {
      "needs_background": "light"
     },
     "output_type": "display_data"
    }
   ],
   "source": [
    "# Transfers as a function of hours\n",
    "plt.scatter(stw.q, stw.t)\n",
    "plt.xlabel(\"$n^\\star$\")\n",
    "plt.ylabel(\"Transfer\")\n",
    "plt.title(\"Transfer as a function hours\")"
   ]
  },
  {
   "cell_type": "code",
   "execution_count": null,
   "id": "c9802b1b-2e71-4d69-8343-b32af4d02a41",
   "metadata": {},
   "outputs": [
    {
     "name": "stderr",
     "output_type": "stream",
     "text": [
      "C:\\Users\\szuzek\\AppData\\Local\\Temp/ipykernel_27260/2356653.py:3: RuntimeWarning: divide by zero encountered in true_divide\n",
      "  plt.scatter((np.array(stw.q)-np.array(stw.qhat))/np.array(stw.qhat), stw.t)\n",
      "C:\\Users\\szuzek\\AppData\\Local\\Temp/ipykernel_27260/2356653.py:3: RuntimeWarning: invalid value encountered in true_divide\n",
      "  plt.scatter((np.array(stw.q)-np.array(stw.qhat))/np.array(stw.qhat), stw.t)\n"
     ]
    },
    {
     "data": {
      "text/plain": [
       "Text(0.5, 1.0, 'Transfer as a function of relative reduction in labor')"
      ]
     },
     "execution_count": null,
     "metadata": {},
     "output_type": "execute_result"
    },
    {
     "data": {
      "image/png": "[encoded data removed]",
      "text/plain": [
       "<Figure size 432x288 with 1 Axes>"
      ]
     },
     "metadata": {
      "needs_background": "light"
     },
     "output_type": "display_data"
    }
   ],
   "source": [
    "# Transfers as a function of relative reduction of hours\n",
    "\n",
    "plt.scatter((np.array(stw.q)-np.array(stw.qhat))/np.array(stw.qhat), stw.t)\n",
    "plt.xlabel(\"($n_{eff}-n^\\star)/n_{eff}$\")\n",
    "plt.ylabel(\"Transfer\")\n",
    "plt.title(\"Transfer as a function of relative reduction in labor\")"
   ]
  },
  {
   "cell_type": "markdown",
   "id": "ea43c4ae-08f4-47a0-87ec-71a6a6415d7b",
   "metadata": {},
   "source": [
    "#### Comparison: Perfect information\n",
    "Hours which the planner chooses in the perfect information (first-best) solution \n",
    "- inefficient separations\n",
    "- flexible participation\n",
    "- perfect information"
   ]
  },
  {
   "cell_type": "code",
   "execution_count": null,
   "id": "7c139227",
   "metadata": {},
   "outputs": [
    {
     "data": {
      "image/png": "[encoded data removed]",
      "text/plain": [
       "<Figure size 432x288 with 1 Axes>"
      ]
     },
     "metadata": {
      "needs_background": "light"
     },
     "output_type": "display_data"
    },
    {
     "name": "stdout",
     "output_type": "stream",
     "text": [
      "0.14605521653\n"
     ]
    },
    {
     "data": {
      "image/png": "[encoded data removed]",
      "text/plain": [
       "<Figure size 432x288 with 1 Axes>"
      ]
     },
     "metadata": {
      "needs_background": "light"
     },
     "output_type": "display_data"
    },
    {
     "data": {
      "image/png": "[encoded data removed]",
      "text/plain": [
       "<Figure size 432x288 with 1 Axes>"
      ]
     },
     "metadata": {
      "needs_background": "light"
     },
     "output_type": "display_data"
    }
   ],
   "source": [
    "stw = STW(display = False, A=0.2, U = 0.2, search = 0.05, beta = 0.0, tau = 0.1, phi = 3.0, \n",
    "          qup = 4, nt = 301, information = \"perfect\", participation = \"flex\")\n",
    "stw.init_gekko()\n",
    "stw.solve_gekko()\n",
    "plot_gekko(stw)\n",
    "# plot_presi(stw, \"transfers\")\n",
    "# plot_presi(stw, \"iota\")\n",
    "\n",
    "plot_presi(stw, \"transfers\")\n",
    "plot_presi(stw, \"n\")\n",
    "\n",
    "# objective value\n",
    "print(stw.value[-1]) # 3.0423, 1.203"
   ]
  },
  {
   "cell_type": "markdown",
   "id": "71172a90-abcd-42ce-996f-e0bcfe3f4750",
   "metadata": {},
   "source": [
    "**evaluate theta cutoffs**"
   ]
  },
  {
   "cell_type": "code",
   "execution_count": null,
   "id": "d36efeb3-f381-4817-9fbb-5b2a5b2b8c73",
   "metadata": {},
   "outputs": [],
   "source": [
    "def theta_cutoffs(self):\n",
    "    ''' make sure that this is still the same with a changed model. relies on linear production now'''\n",
    "    phi, A, sigma, SEARCH = self.phi, self.A, self.sigma, self.search\n",
    "\n",
    "    fraction = 1/(phi*A)\n",
    "    exponent1 = 1/(phi-1)\n",
    "    exponent2 = phi/(phi-1)\n",
    "    exponent3 = (1-phi)/phi\n",
    "    exponent4 = (phi-1)/phi\n",
    "    theta_0 = ((fraction**exponent1 - A*(fraction**exponent2))**exponent3) * self.U**exponent4 # cutoff for outside options\n",
    "    if self.search == 0:\n",
    "        theta_eff = 0\n",
    "    else:\n",
    "        theta_eff = ((fraction**exponent1 - A*(fraction**exponent2))**exponent3) * SEARCH**exponent4 # cutoff for planner\n",
    "\n",
    "    return [theta_0, theta_eff]\n"
   ]
  },
  {
   "cell_type": "code",
   "execution_count": null,
   "id": "2191e1ee-15de-40f4-8823-3182eb3b5a35",
   "metadata": {},
   "outputs": [],
   "source": [
    "theta0, thetaeff = theta_cutoffs(stw)"
   ]
  },
  {
   "cell_type": "code",
   "execution_count": null,
   "id": "f5a46b86-e361-414c-93ba-6c73c293fd48",
   "metadata": {},
   "outputs": [],
   "source": [
    "thetaefftest = min(np.array(stw.theta)[np.array(stw.iota) > 0.9])"
   ]
  },
  {
   "cell_type": "code",
   "execution_count": null,
   "id": "2fab7ae9-3d1f-4b6c-b112-b718f6aa0f97",
   "metadata": {},
   "outputs": [
    {
     "name": "stdout",
     "output_type": "stream",
     "text": [
      "0.0033333333299999934\n"
     ]
    }
   ],
   "source": [
    "print(thetaefftest - thetaeff)"
   ]
  },
  {
   "cell_type": "code",
   "execution_count": null,
   "id": "1a3ffa6f-3ade-4ad6-8947-85767465a56a",
   "metadata": {},
   "outputs": [
    {
     "data": {
      "text/plain": [
       "<matplotlib.collections.LineCollection at 0x26901ab5670>"
      ]
     },
     "execution_count": null,
     "metadata": {},
     "output_type": "execute_result"
    },
    {
     "data": {
      "image/png": "[encoded data removed]",
      "text/plain": [
       "<Figure size 432x288 with 1 Axes>"
      ]
     },
     "metadata": {
      "needs_background": "light"
     },
     "output_type": "display_data"
    }
   ],
   "source": [
    "plt.plot(stw.theta, stw.iota)\n",
    "plt.plot(stw.theta, stw.q)\n",
    "plt.plot(stw.theta, stw.qhat)\n",
    "plt.vlines(thetaeff, 0,1.2, \"k\")\n",
    "plt.vlines(thetaefftest, 0,1.2, \"r\")\n",
    "plt.vlines(theta0, 0,1.2, \"b\")\n"
   ]
  },
  {
   "cell_type": "markdown",
   "id": "c6c28f19",
   "metadata": {},
   "source": [
    "#### Comparison: Imperfect information without inefficient separations - everyone has to participate\n",
    "* ``search = 0``\n",
    "* imperfect information\n",
    "* forced participation\n",
    "\n"
   ]
  },
  {
   "cell_type": "code",
   "execution_count": null,
   "id": "c28c4659-6179-4882-8547-4d54465b5f19",
   "metadata": {},
   "outputs": [
    {
     "data": {
      "image/png": "[encoded data removed]",
      "text/plain": [
       "<Figure size 432x288 with 1 Axes>"
      ]
     },
     "metadata": {
      "needs_background": "light"
     },
     "output_type": "display_data"
    }
   ],
   "source": [
    "stw = STW(display = False, A=0.2, U = 0.2, search = 0, beta = 0.0, tau = 0.5, phi = 3, \n",
    "          qup = 5, nt = 301, information = \"imperfect\", participation = \"forced\")\n",
    "stw.init_gekko()\n",
    "stw.solve_gekko()\n",
    "plot_gekko(stw)"
   ]
  },
  {
   "cell_type": "code",
   "execution_count": null,
   "id": "386c8eeb-bb77-445a-85ba-5edfa129036c",
   "metadata": {},
   "outputs": [
    {
     "data": {
      "image/png": "[encoded data removed]",
      "text/plain": [
       "<Figure size 432x288 with 1 Axes>"
      ]
     },
     "metadata": {
      "needs_background": "light"
     },
     "output_type": "display_data"
    },
    {
     "data": {
      "image/png": "[encoded data removed]",
      "text/plain": [
       "<Figure size 432x288 with 1 Axes>"
      ]
     },
     "metadata": {
      "needs_background": "light"
     },
     "output_type": "display_data"
    }
   ],
   "source": [
    "plot_presi(stw, \"transfers\", fname = \"plots/transfers.png\")\n",
    "plot_presi(stw, \"n\", fname = \"plots/hours.png\")\n",
    "\n",
    "# stw.moments()\n",
    "\n",
    "# objective value\n",
    "# print(stw.value[-1])"
   ]
  },
  {
   "cell_type": "markdown",
   "id": "1df577c4",
   "metadata": {},
   "source": [
    "0.2659528711"
   ]
  },
  {
   "cell_type": "markdown",
   "id": "0308ee49",
   "metadata": {},
   "source": [
    "#### Perfect information \n",
    "- What the planner would do under perfect information: \n",
    "- From the perspective of the planner, jobs with a lower surplus are still valuable since the planner pays for unemployment benefits. \n",
    "- I.e., the part of the surplus that comes from the outside option of the worker is \"bad\" from the perspective of the planner, since the planner funds this outside option."
   ]
  },
  {
   "cell_type": "code",
   "execution_count": null,
   "id": "19d4e0fa",
   "metadata": {},
   "outputs": [
    {
     "data": {
      "image/png": "[encoded data removed]",
      "text/plain": [
       "<Figure size 432x288 with 1 Axes>"
      ]
     },
     "metadata": {
      "needs_background": "light"
     },
     "output_type": "display_data"
    },
    {
     "name": "stdout",
     "output_type": "stream",
     "text": [
      "0.072269035195\n"
     ]
    },
    {
     "data": {
      "image/png": "[encoded data removed]",
      "text/plain": [
       "<Figure size 432x288 with 1 Axes>"
      ]
     },
     "metadata": {
      "needs_background": "light"
     },
     "output_type": "display_data"
    },
    {
     "data": {
      "image/png": "[encoded data removed]",
      "text/plain": [
       "<Figure size 432x288 with 1 Axes>"
      ]
     },
     "metadata": {
      "needs_background": "light"
     },
     "output_type": "display_data"
    }
   ],
   "source": [
    "stw = STW(display = False, A=0.3, U = 0.2, beta = 0, tau = 0.5, phi = 2, qup = 2, information = \"imperfect\", participation= \"flex\", search = 0.1)\n",
    "stw.init_gekko()\n",
    "stw.solve_gekko()\n",
    "plot_gekko(stw)\n",
    "\n",
    "plot_presi(stw, \"transfers\") \n",
    "plot_presi(stw, \"n\")\n",
    "\n",
    "# objective value\n",
    "print(stw.value[-1])\n",
    "\n",
    "nperfect = stw.q"
   ]
  },
  {
   "cell_type": "markdown",
   "id": "0cf6130c",
   "metadata": {},
   "source": [
    "## Calibration"
   ]
  },
  {
   "cell_type": "markdown",
   "id": "28c96006",
   "metadata": {},
   "source": [
    "Calibration of our model"
   ]
  },
  {
   "cell_type": "markdown",
   "id": "4300c571",
   "metadata": {},
   "source": [
    "#### Model equations without optimal STW\n",
    "\n",
    "We want to fit the paramters of the model to a world without STW. \n",
    "\n"
   ]
  },
  {
   "cell_type": "markdown",
   "id": "0c763178",
   "metadata": {},
   "source": [
    "The relevant equations come from the outside options of firms\n",
    "\n",
    "$$ S_O(\\theta) = \\underset{n \\geq 0}{max} \\quad \\mathbb{1}_{\\{ n > 0 \\}}(n) \\: \\times \\:  \\left( \\theta \\: n - c(n) \\: - U \\right)  $$\n",
    "With solution of hours $ \\hat{n}(\\theta) $.\n",
    "\n",
    "$\\theta$ is a shock that we assume to be log-normally distributed"
   ]
  },
  {
   "cell_type": "markdown",
   "id": "273ce01a",
   "metadata": {},
   "source": [
    "#### Discussion of Moments\n",
    "- distribution of hour-changes \n",
    "    - 25%, 50%, 75% quantiles\n",
    "    - informative about cost of labor\n",
    "    - see inaction share\n",
    "- Average job separation rate (employment-to-unemployment rate)\n",
    "    - Hartung, Jung and Kuhn 2021: **monthly 0.6%** (i.e. **around 7.4% yearly**) (Germany, 1993-2003)\n",
    "- Average job finding rate (unemployment-to-employment rate)\n",
    "    - Hartung, Jung and Kuhn 2021: **monthly 5.2%** (Germany, 1993-2003)\n",
    "- Implied steady state unemployment rate 10.3% \n",
    "- **Counterfactual \"efficient unemployment rates\"** and *implied efficient separation rates* (holding job finding rates constant) \n",
    "    $$ unemployment rate = \\frac{EU rate}{(EU rate + UE rate)}$$\n",
    "    - 2%: implies yearly *efficient separation rate* of 1.2%\n",
    "    - 4%: implies yearly *efficient separation rate* of 2.6%\n",
    "    - 6%: implies yearly *efficient separation rate* of 4%\n",
    "- Value of unemployment relative to production\n",
    "    - Workers are promised around 60% of wages\n",
    "    - In our model, wages are not solved for\n",
    "    - But they should on average be equal to labor share! \n",
    "    - use $\\mathbb{E}[production] * laborshare * replacement rate = \\mathbb{E}[production] * 0.63 * 0.6$ \n",
    "- Inaction share: number of firms with low hour adjustment\n",
    "    - $\\Delta h < |5\\%|$ (annual) = 47.6%\n",
    "    - share of firms that adjust hours only a little. should be informative about the slope and scale of the cost function\n",
    "- Normal hours\n",
    "    - we need to normalize hours in order to talk about a deviation. I.e., we target that 47% of firms adjust within 5% deviation of the normal hours\n",
    "    - set to 1\n",
    "    - specifically: 47% of *continuing* firms\n",
    "- Distribution\n",
    "    - set to log-normal (for a start)\n",
    "    - careful: log-normal does not always have montone hazard rate!\n",
    "    - parameter $\\mu$ and $\\sigma$ need to be calibrated\n"
   ]
  },
  {
   "cell_type": "code",
   "execution_count": null,
   "id": "17f227ab-a23b-4249-93e3-e7095c252ac6",
   "metadata": {},
   "outputs": [
    {
     "data": {
      "text/plain": [
       "0.10344827586206898"
      ]
     },
     "execution_count": null,
     "metadata": {},
     "output_type": "execute_result"
    }
   ],
   "source": [
    "0.006/(0.006 + 0.052)"
   ]
  },
  {
   "cell_type": "code",
   "execution_count": null,
   "id": "8c43a89c-3469-4060-aa2e-591715b9b8e8",
   "metadata": {},
   "outputs": [
    {
     "data": {
      "text/plain": [
       "1.0744241677219248"
      ]
     },
     "execution_count": null,
     "metadata": {},
     "output_type": "execute_result"
    }
   ],
   "source": [
    "(1+0.006)**12"
   ]
  },
  {
   "cell_type": "markdown",
   "id": "b15ebac3",
   "metadata": {},
   "source": [
    "#### Probability density function\n",
    "\n",
    "$$ f(x) = \\frac{1}{x*\\sigma * \\sqrt{2 \\pi}} exp \\left( - \\frac{log(x - loc)^2}{2 \\sigma^2} \\right)$$\n"
   ]
  },
  {
   "cell_type": "markdown",
   "id": "30ef25b4",
   "metadata": {},
   "source": [
    "#### Overview of moments\n",
    "\n",
    "| **Name**           | **formally**                              | **Moment** | **Target**         |\n",
    "| ------------------ | ----------------------------------------- | -----------| ------------------ |\n",
    "| Inaction share     | less than 5\\% deviation from normal hours | 0.538      | $\\phi$             |\n",
    "| Normal hours       | normalization of what normal hours are    | 1          | $A$                |\n",
    "| Separation rate    | Share of existing matches that separate   | 0.061       | lognormal $\\sigma$ |\n",
    "| Unemployment value | Labor-share x replacement rate x av. prod | 0.378      | $U$                |\n",
    "| Average theta      | normalize expectation of $\\theta$         | 1          | lognormal loc      |\n"
   ]
  },
  {
   "cell_type": "markdown",
   "id": "887c066e",
   "metadata": {},
   "source": [
    "#### Calibration equations\n",
    "\n",
    "In the outside option, each match solves \n",
    "$$ \\hat{n}(\\theta) = argmax_{n\\geq 0} \\; \\mathbb{1}_{n>0}(n) \\left( \\theta * n - A * n^\\phi - U \\right) $$\n",
    "\n",
    "with $\\theta \\sim LogNormal(loc, \\sigma)$.\n",
    "\n",
    "Direct FOC solution for n: \n",
    "$$ n_{FOC}(\\theta) = \\left( \\frac{\\theta}{A*\\phi} \\right)^{ 1/(\\phi-1) } $$\n",
    "\n",
    "Cutoff $\\theta_0$ solves: \n",
    "\n",
    "$$ \\theta  n_{FOC}(\\theta_0) - A *  n_{FOC}(\\theta_0)^\\phi - U = 0 $$\n",
    "\n",
    "Explicitly: \n",
    "\n",
    "$$ \\theta_0 = \\left( \\left( \\frac{1}{\\phi A} \\right)^{\\frac{1}{\\phi-1}} - A * \\left( \\frac{1}{\\phi A} \\right)^{\\frac{\\phi}{\\phi-1}}  \\right)^{\\frac{1-\\phi}{\\phi}} * U^{\\frac{\\phi-1}{\\phi}}  $$\n",
    "\n",
    "Given $\\hat{n}$, the following equations should be satisfied: \n",
    "\n",
    "**Conditional on...**\n",
    "\n",
    "- Inaction share: $\\int_{\\theta_0} \\mathbb{1}_{ |\\hat{n} - 1 | \\leq 0.05 }(\\hat{n}) \\; dF(\\theta) = 0.538 $\n",
    "- Normal hours: $\\int \\hat{n}(\\theta) \\; dF(\\theta) = 1$\n",
    "- Separation rate: $ \\int \\mathbb{1}_{\\hat{n} = 0 }(\\hat{n}) \\; dF(\\theta) = 0.12$\n",
    "- Unemployment value: $U = 0.378$\n",
    "- Average theta: $ \\int \\theta dF(\\theta) = 1$\n"
   ]
  },
  {
   "cell_type": "markdown",
   "id": "443a6002",
   "metadata": {},
   "source": [
    "#### Numerical approximations\n",
    "\n",
    "With log-normal distribution, the support of $\\theta$ is infinite. \n",
    "For numerical purposes, the lower and upper bound are set such that 99.99% of the support of $\\theta$ is covered. \n",
    "\n",
    "- lower = dist.ppf(0.99995)\n",
    "- upper =  dist.ppf(0.00005)\n",
    "\n",
    "The upper bound of hours also has to be set. There is no way of seeing that beforehand. One has to check that the artificial upper bound is not reached in the solution.\n",
    "\n",
    "- qup = X **(check with solution that it is sufficiently high!)**\n",
    "\n"
   ]
  },
  {
   "cell_type": "markdown",
   "id": "6e202ed2",
   "metadata": {},
   "source": [
    "#### Counterfactual\n",
    "\n",
    "The counterfactual is a Germany prior to Great Recession with an optimal STW.\n",
    "We look at the following moments: \n",
    "- ounterfactual separation rate, \n",
    "- average hour reduction (%) for STW users\n",
    "- ratio of transfers to jobs below vs. above theta_0\n",
    "- % reduction of total expenditure"
   ]
  },
  {
   "cell_type": "markdown",
   "id": "bbb3946c",
   "metadata": {},
   "source": [
    "#### Calibration"
   ]
  },
  {
   "cell_type": "markdown",
   "id": "b8c6434a",
   "metadata": {},
   "source": [
    "``NOTE:`` The calibration uses analytical solutions for outside option hours and the cutoff $\\theta_0$. If the model changes, these have to be adapted!"
   ]
  },
  {
   "cell_type": "code",
   "execution_count": null,
   "id": "f974a007-a0bb-49d2-bd66-4ea4e883fc43",
   "metadata": {},
   "outputs": [
    {
     "name": "stdout",
     "output_type": "stream",
     "text": [
      "efficient separation rate\n",
      "[1.01280929 1.02631208 1.040565  ]\n"
     ]
    }
   ],
   "source": [
    "UE = 0.052\n",
    "u = np.array([0.02, 0.04, 0.06])\n",
    "EUmonthly = UE * u/(1-u)\n",
    "print(\"efficient separation rate\")\n",
    "print((1 + EUmonthly)**12)"
   ]
  },
  {
   "cell_type": "code",
   "execution_count": null,
   "id": "dc0a138a",
   "metadata": {},
   "outputs": [],
   "source": [
    "# directly set moments\n",
    "c0 = Calibration(Ucalib = 0.378, distributionname = \"lognormal\", target_sep_eff = 0.012, target_sep = 0.074, \n",
    "                 target_inactive_share = 0.538, implied_efficient_u = 0.02)\n",
    "c1 = Calibration(Ucalib = 0.378, distributionname = \"lognormal\", target_sep_eff = 0.026, target_sep = 0.074, \n",
    "                 target_inactive_share = 0.538, implied_efficient_u = 0.04)\n",
    "c2 = Calibration(Ucalib = 0.378, distributionname = \"lognormal\", target_sep_eff = 0.04, target_sep = 0.074,\n",
    "                 target_inactive_share = 0.538, implied_efficient_u = 0.06)\n"
   ]
  },
  {
   "cell_type": "markdown",
   "id": "532f795d",
   "metadata": {},
   "source": [
    "#### Calibration - Estimation\n",
    "\n",
    "run in parallel"
   ]
  },
  {
   "cell_type": "code",
   "execution_count": null,
   "id": "3093f855",
   "metadata": {},
   "outputs": [
    {
     "name": "stderr",
     "output_type": "stream",
     "text": [
      "C:\\Users\\szuzek\\Anaconda3\\lib\\site-packages\\scipy\\stats\\_distn_infrastructure.py:2738: IntegrationWarning: The maximum number of subdivisions (50) has been achieved.\n",
      "  If increasing the limit yields no improvement it is advised to analyze \n",
      "  the integrand in order to determine the difficulties.  If the position of a \n",
      "  local difficulty can be determined (singularity, discontinuity) one will \n",
      "  probably gain from splitting up the interval and calling the integrator \n",
      "  on the subranges.  Perhaps a special-purpose integrator should be used.\n",
      "  vals = integrate.quad(fun, lb, ub, **kwds)[0] / invfac\n"
     ]
    },
    {
     "name": "stdout",
     "output_type": "stream",
     "text": [
      "Optimization terminated successfully.\n",
      "         Current function value: 0.000000\n",
      "         Iterations: 163\n",
      "         Function evaluations: 282\n",
      "Wall time: 1min 34s\n",
      "Optimization terminated successfully.\n",
      "         Current function value: 0.000000\n",
      "         Iterations: 194\n",
      "         Function evaluations: 331\n",
      "Wall time: 1min 50s\n",
      "Optimization terminated successfully.\n",
      "         Current function value: 0.000000\n",
      "         Iterations: 145\n",
      "         Function evaluations: 251\n",
      "Wall time: 1min 29s\n"
     ]
    }
   ],
   "source": [
    "%time o0 = c0.optimize()\n",
    "%time o1 = c1.optimize()\n",
    "%time o2 = c2.optimize()"
   ]
  },
  {
   "cell_type": "markdown",
   "id": "66639fbc",
   "metadata": {},
   "source": [
    "save result objects"
   ]
  },
  {
   "cell_type": "code",
   "execution_count": null,
   "id": "be1c205d",
   "metadata": {},
   "outputs": [],
   "source": [
    "with open( \"calibration_params0.pkl\", 'wb') as file:\n",
    "    pickle.dump(o0, file)\n",
    "with open( \"calibration_class0.pkl\", 'wb') as file:\n",
    "    pickle.dump(c0, file)\n",
    "    \n",
    "with open( \"calibration_params1.pkl\", 'wb') as file:\n",
    "    pickle.dump(o1, file)\n",
    "with open( \"calibration_class1.pkl\", 'wb') as file:\n",
    "    pickle.dump(c1, file)\n",
    "    \n",
    "with open( \"calibration_params2.pkl\", 'wb') as file:\n",
    "    pickle.dump(o2, file)\n",
    "with open( \"calibration_class2.pkl\", 'wb') as file:\n",
    "    pickle.dump(c2, file)"
   ]
  },
  {
   "cell_type": "markdown",
   "id": "b6aba8f1",
   "metadata": {},
   "source": [
    "#### Calibration - OUTPUT"
   ]
  },
  {
   "cell_type": "markdown",
   "id": "d3b3d3ff",
   "metadata": {},
   "source": [
    "load previous"
   ]
  },
  {
   "cell_type": "code",
   "execution_count": null,
   "id": "8b9617fb",
   "metadata": {},
   "outputs": [],
   "source": [
    "with open( \"calibration_params0.pkl\", 'rb') as f:\n",
    "    o0 = pickle.load(f)\n",
    "with open( \"calibration_class0.pkl\", 'rb') as f:\n",
    "    c0 = pickle.load(f)\n",
    "    \n",
    "with open( \"calibration_params1.pkl\", 'rb') as f:\n",
    "    o1 = pickle.load(f)\n",
    "with open( \"calibration_class1.pkl\", 'rb') as f:\n",
    "    c1 = pickle.load(f)\n",
    "    \n",
    "with open( \"calibration_params2.pkl\", 'rb') as f:\n",
    "    o2 = pickle.load(f)\n",
    "with open( \"calibration_class2.pkl\", 'rb') as f:\n",
    "    c2 = pickle.load(f)"
   ]
  },
  {
   "cell_type": "markdown",
   "id": "84554a1f-d039-4b49-b4ea-e29c56b40cb5",
   "metadata": {},
   "source": [
    "Check validity"
   ]
  },
  {
   "cell_type": "code",
   "execution_count": null,
   "id": "56d1b57e",
   "metadata": {},
   "outputs": [
    {
     "name": "stdout",
     "output_type": "stream",
     "text": [
      "[6.52739651 0.15181233 0.37826754 0.24686534]\n",
      "[ 2.54153904e-06  5.97524375e-07 -5.48953813e-07 -8.01472273e-07]\n"
     ]
    },
    {
     "name": "stderr",
     "output_type": "stream",
     "text": [
      "C:\\Users\\szuzek\\Anaconda3\\lib\\site-packages\\scipy\\stats\\_distn_infrastructure.py:2738: IntegrationWarning: The occurrence of roundoff error is detected, which prevents \n",
      "  the requested tolerance from being achieved.  The error may be \n",
      "  underestimated.\n",
      "  vals = integrate.quad(fun, lb, ub, **kwds)[0] / invfac\n"
     ]
    },
    {
     "name": "stdout",
     "output_type": "stream",
     "text": [
      "[ 3.40182304e-05  3.06829452e-06 -5.00548954e-04  4.56628809e-04]\n",
      "[6.52749812 0.15181247 0.37827422 0.29197112]\n",
      "[ 1.72901842e-06 -2.11782863e-06  4.20107435e-06  1.32167917e-06]\n",
      "[ 3.31812529e-05 -1.97770898e-06 -4.95798926e-04  2.02832624e-03]\n",
      "[6.52735879 0.15181542 0.37826602 0.32302078]\n",
      "[-4.54694986e-07 -1.95393016e-06 -5.28215416e-07 -3.30387946e-06]\n"
     ]
    }
   ],
   "source": [
    "for oo, cc in zip([o0, o1, o2], [c0, c1, c2]):\n",
    "    finalparams = oo.x # phi, A, sigma, SEARCH\n",
    "    print(finalparams)\n",
    "    print(cc.evaluate(finalparams))\n",
    "    print(cc.evaluate_STW(finalparams)) # also initializes c.stw_, the STW object with finalparams"
   ]
  },
  {
   "cell_type": "code",
   "execution_count": null,
   "id": "63caa4bf-4706-4566-8d71-c7d4295926f3",
   "metadata": {},
   "outputs": [],
   "source": [
    "thetaefftest = min(np.array(c0.stw_perf_.theta[1:])[np.array(c0.stw_perf_.iota[1:]) > 0.9])"
   ]
  },
  {
   "cell_type": "code",
   "execution_count": null,
   "id": "7ff59f0d-706c-42d5-b62d-5344a143fc49",
   "metadata": {},
   "outputs": [],
   "source": [
    "print(c0.dist.cdf(thetaefftest) / c0.target_sep_eff)\n",
    "print(c0.dist.cdf(c0.thetaeff) / c0.target_sep_eff)"
   ]
  },
  {
   "cell_type": "markdown",
   "id": "47f7fd6d-05cc-4b11-a389-8cb0bbe8718e",
   "metadata": {},
   "source": [
    "## Optimal Short-time work policy on calibrated economy"
   ]
  },
  {
   "cell_type": "markdown",
   "id": "64657afc-f61d-485c-a3ec-f2cefd43941f",
   "metadata": {},
   "source": [
    "**Prepare for calibration**\n",
    "\n",
    "make copies of objects (not by reference!) to change parameters"
   ]
  },
  {
   "cell_type": "code",
   "execution_count": null,
   "id": "ade03a30-2a32-46ae-96b5-352b8e6afcbc",
   "metadata": {},
   "outputs": [],
   "source": [
    "# initialize counterfactuals\n",
    "c = []\n",
    "# tau values\n",
    "tau_values = [0.3, 0.5, 0.7]\n",
    "\n",
    "\n",
    "for tau in tau_values: \n",
    "    cc = copy.deepcopy(c0)\n",
    "    cc.stw_.tau = tau\n",
    "    c.append(cc)\n",
    "     \n",
    "    cc = copy.deepcopy(c1)\n",
    "    cc.stw_.tau = tau\n",
    "    c.append(cc)\n",
    "    \n",
    "    cc = copy.deepcopy(c2)\n",
    "    cc.stw_.tau = tau\n",
    "    c.append(cc)"
   ]
  },
  {
   "cell_type": "code",
   "execution_count": null,
   "id": "63fdefef-5da1-4dc1-8c3b-5f9d0baf937f",
   "metadata": {},
   "outputs": [],
   "source": [
    "len(c)"
   ]
  },
  {
   "cell_type": "markdown",
   "id": "588b24e1-e4f9-40e7-9386-26ed78846b14",
   "metadata": {},
   "source": [
    "### Solve optimal policies for different parameters in parallel\n",
    "\n",
    "- need to write solver function to external file\n",
    "- otherwise multiprocessing does not working in jupyter notebook "
   ]
  },
  {
   "cell_type": "code",
   "execution_count": null,
   "id": "b575378e-de6c-4073-a6d5-da12a8153ed4",
   "metadata": {},
   "outputs": [],
   "source": [
    "%%writefile solve_process.py\n",
    "def solve_process(cc):\n",
    "    cc.stw_.display = False\n",
    "    cc.stw_.nt = 4001 # need to increase precision since few are affected by stw   \n",
    "    cc.stw_.init_gekko()\n",
    "    cc.stw_.solve_gekko()\n",
    "    \n",
    "    return cc"
   ]
  },
  {
   "cell_type": "code",
   "execution_count": null,
   "id": "091b28e5-2f24-4a4b-9cba-83550a3df262",
   "metadata": {},
   "outputs": [],
   "source": [
    "from solve_process import solve_process\n",
    "if __name__ ==  '__main__': \n",
    "    pool = multiprocessing.Pool(multiprocessing.cpu_count() - 1)\n",
    "    c = pool.map(solve_process, c)"
   ]
  },
  {
   "cell_type": "markdown",
   "id": "89189eab-f4e8-499d-9980-5ab52a30e662",
   "metadata": {},
   "source": [
    "### Moments of the counterfactual policy"
   ]
  },
  {
   "cell_type": "code",
   "execution_count": null,
   "id": "da2ad2e7-13da-4bc3-bcaa-d7c9dfd052ee",
   "metadata": {},
   "outputs": [],
   "source": [
    "def moments(stw, epsilon = 0.05): \n",
    "    # approximate hours (linear interpolation) for integration\n",
    "    grid = np.array(stw.theta)\n",
    "    hours = interpolate.interp1d(grid, np.array(stw.q))\n",
    "    outside_hours = interpolate.interp1d(grid, np.array(stw.qhat))\n",
    "    transfers = interpolate.interp1d(grid, np.array(stw.t))\n",
    "    hourdiff = interpolate.interp1d(grid, np.array(stw.q) - np.array(stw.qhat))\n",
    "    statediff = interpolate.interp1d(grid, np.array(stw.sa) - np.array(stw.oo))\n",
    "\n",
    "#        prod = interpolate.interp1d(grid, np.array)\n",
    "\n",
    "\n",
    "    mom = dict()\n",
    "    mom[\"separation_rate\"] = stw.dist.expect(lambda x: hours(x) < 0.001, stw.lower, stw.upper, conditional = True)\n",
    "        \n",
    "    mom[\"separation_rate_oo\"] = stw.dist.expect(lambda x: outside_hours(x) < 0.001, stw.lower, stw.upper, conditional = True)\n",
    "    \n",
    "    mom[\"total_transfers\"] = stw.dist.expect(transfers, stw.lower, stw.upper, conditional = True)\n",
    "    \n",
    "    mom[\"total_transfers_oo\"] = stw.dist.expect(lambda x: (stw.U - stw.search) * (outside_hours(x) < 0.01), \n",
    "                                                stw.lower, stw.upper, conditional = True)\n",
    "    mom[\"total_output\"] = stw.dist.expect(lambda x: stw.prod(x, hours(x)), stw.lower, stw.upper, conditional = True)\n",
    "    \n",
    "    mom[\"total_output_oo\"] = stw.dist.expect(lambda x: stw.prod(x, outside_hours(x)), stw.lower, stw.upper, conditional = True)\n",
    "    \n",
    "    mom[\"total_output_relative\"] = mom[\"total_output\"]/mom[\"total_output_oo\"]\n",
    "    \n",
    "    # CHECK: mom[\"av_hour_reduction_STW\"] = stw.dist.expect(lambda x: (hourdiff(x) / outside_hours(x)) * ( np.abs(hourdiff(x)) < 0.001 ) , stw.lower, stw.upper, conditional = True)\n",
    "    mom[\"transfer_STW\"] = stw.dist.expect(lambda x: transfers(x) * ( np.abs(hourdiff(x)) >= epsilon ) , \n",
    "                                          stw.lower, stw.upper, conditional = True)\n",
    "    mom[\"transfer_UI\"] = stw.dist.expect(lambda x: transfers(x) * ( np.abs(hourdiff(x)) < epsilon ) , \n",
    "                                         stw.lower, stw.upper, conditional = True)\n",
    "    mom[\"share_transfer_to_STW\"] = mom[\"transfer_STW\"]/ (mom[\"transfer_UI\"] + mom[\"transfer_STW\"])\n",
    "    \n",
    "    \n",
    "    mom[\"share_in_STW\"] = stw.dist.expect(lambda x: ( np.abs(hourdiff(x)) >= epsilon ) , stw.lower, stw.upper, conditional = True) \n",
    "\n",
    "    # Hours cutoff (relative to average full time hours n), below which matches do not get supported \n",
    "    mom[\"cutoff_n\"] = min(np.array(stw.q[1:])[np.array(stw.iota[1:]) > 0.9]) # lowest n with iota = 1 (excluding the first)\n",
    "\n",
    "    # share with zero transfers\n",
    "    no_transfers_cutoff = min(np.array(stw.theta)[(np.array(stw.t) < 0.001)])\n",
    "    mom[\"share_no_transfers\"] = 1 - stw.dist.cdf(no_transfers_cutoff)\n",
    "\n",
    "    \n",
    "    mom[\"share_adverse_selected\"] = \n",
    "    \n",
    "    # \n",
    "\n",
    "    return mom\n",
    "\n",
    "def table_moments(cc, epsilon = 0.05):\n",
    "    ''' select values and moments for general table: in right format and right order! '''\n",
    "    mom = moments(cc.stw_, epsilon)\n",
    "    # Columns of the table:\n",
    "    #   tau &  u^* & Efficient separation rate &  Separation rate & Hours cutoff & \\\\% in STW & \\\\% of transfers to STW & Relative output  \\\\\\\\ \\n\") # column names\n",
    "\n",
    "    return [round(cc.implied_efficient_u, 2), round(mom[\"separation_rate\"], 3),  round(mom[\"cutoff_n\"], 2),  round(mom[\"share_in_STW\"] * 100, 1), \n",
    "           round(mom[\"share_transfer_to_STW\"]*100, 1), round(mom[\"total_output_relative\"], 3)]\n",
    "\n",
    "def table_adverse_selection(cc, epsilon = 0.05): \n",
    "    ''' select values and moments for adverse selection table: in right format and right order! '''\n",
    "    mom = moments(cc.stw_, epsilon)\n",
    "\n",
    "    return []\n",
    "    "
   ]
  },
  {
   "cell_type": "markdown",
   "id": "c1e9987a-2e48-4e69-8ccd-741c0589be44",
   "metadata": {},
   "source": [
    "### Output tables"
   ]
  },
  {
   "cell_type": "markdown",
   "id": "5ac92f6c-62aa-446f-8bf4-b738587010a6",
   "metadata": {},
   "source": [
    "#### Moments of optimal policy"
   ]
  },
  {
   "cell_type": "code",
   "execution_count": null,
   "id": "2ddf9325-fdbd-4935-925a-b985224425ef",
   "metadata": {},
   "outputs": [],
   "source": [
    "with open(\"tables/counterfactual_optimal_policy.tex\", \"w\") as f:\n",
    "    #table start\n",
    "    f.write( \"\\\\begin{table}\\\\centering \\n\")\n",
    "    f.write( \"\\t    \\\\renewcommand{\\\\arraystretch}{1.7} \\n\")\n",
    "    f.write( \"\\t     \\\\begin{tabular}{@{}llccccc@{}} \\\\toprule \\n\") # number of columns here\n",
    "    \n",
    "    # table column\n",
    "    # f.write( \" \\t \\t    \\\\\\\\ \\n\") # empty\n",
    "    f.write( \"\\t \\t & & Separation rate & Hours cutoff & \\\\% in STW & \\\\% of transfers to STW & Rel. output  \\\\\\\\ \\n\") # column names\n",
    "    f.write( \"\\\\midrule  \\n\" )\n",
    "    \n",
    "    oldtau = 0\n",
    "    for cc in c:\n",
    "        inputlist = []\n",
    "        if oldtau != cc.stw_.tau :\n",
    "            printtau = \"$\\\\tau = \" + str(cc.stw_.tau) + \"$\"\n",
    "        else: \n",
    "            printtau = \"\"\n",
    "        oldtau = cc.stw_.tau\n",
    "        inputlist = [printtau] + table_moments(cc, epsilon=0.01)\n",
    "        print(inputlist)\n",
    "        f.write( \"\\t \\t {}  &  $u^*={}$  &  ${}$  &  ${}$  &  ${}$\\\\%  &  ${}$\\\\%  &  ${}$   \\\\\\\\ \\n\".format(*inputlist) )\n",
    "    # f.write( \" \\t \\t    \\\\\\\\ \\n\")\n",
    "    # f.write( \" \\t \\t    \\\\\\\\ \\n\")\n",
    "    # f.write( \" \\t \\t    \\\\\\\\ \\n\")\n",
    "    \n",
    "    # table end + caption + label\n",
    "    f.write( \"\\t \\t \\\\bottomrule \\n\" )\n",
    "    f.write( \"\\t \\\\end{tabular} \\n\" ) \n",
    "    f.write( \"\\t \\\\caption{Labor market moments under a counter-factual optimal short-time work policy.} \\n\" )\n",
    "    f.write( \"\\t \\\\label{tab:counterfactual} \\n\")\n",
    "    f.write( \"\\\\end{table}\" )\n",
    "\n"
   ]
  },
  {
   "cell_type": "markdown",
   "id": "c0127eef-b48f-4c0b-b15c-d5a1eaf270c7",
   "metadata": {},
   "source": [
    "#### Strenth of adverse selection\n",
    "\n",
    "Table with share of matches in STW that are to the right of $\\theta_0$, as well as share of STW transfers to these matches"
   ]
  },
  {
   "cell_type": "code",
   "execution_count": null,
   "id": "9b187ba6-7b0e-4e00-84ca-d07313ef8564",
   "metadata": {},
   "outputs": [],
   "source": []
  },
  {
   "cell_type": "code",
   "execution_count": null,
   "id": "e23bb243-cd10-4d9f-a7a6-a8678b2102bf",
   "metadata": {},
   "outputs": [],
   "source": []
  },
  {
   "cell_type": "code",
   "execution_count": null,
   "id": "bd3a6645-ef9e-4d14-8a0f-6f93f7eafa0f",
   "metadata": {},
   "outputs": [],
   "source": []
  },
  {
   "cell_type": "markdown",
   "id": "998998ea-ea2a-4c47-bfc4-a1e53b42d5f0",
   "metadata": {},
   "source": [
    "#### Estimated paramters"
   ]
  },
  {
   "cell_type": "code",
   "execution_count": null,
   "id": "c359108d-adc5-4606-a5d7-1c4efb6b615c",
   "metadata": {},
   "outputs": [],
   "source": [
    "print(o0.x)\n",
    "print(o1.x)\n",
    "print(o2.x)"
   ]
  },
  {
   "cell_type": "code",
   "execution_count": null,
   "id": "824f3f3d-920e-49a0-a8cc-dd977e45e636",
   "metadata": {},
   "outputs": [],
   "source": [
    "with open(\"tables/estimated_parameters.tex\", \"w\") as f:\n",
    "    #table start\n",
    "    f.write( \"\\\\begin{table}\\\\centering \\n\")\n",
    "    f.write( \"\\t    \\\\renewcommand{\\\\arraystretch}{1.7} \\n\")\n",
    "    f.write( \"\\t     \\\\begin{tabular}{@{}llll@{}} \\\\toprule \\n\") # number of columns here\n",
    "    \n",
    "    # table column\n",
    "    # f.write( \" \\t \\t    \\\\\\\\ \\n\") # empty\n",
    "    f.write( \"\\t \\t & Parameter & Description & Estimate  \\\\\\\\ \\n\") # column names\n",
    "    f.write( \"\\\\midrule  \\n\" )\n",
    "    \n",
    "    f.write( \" Shared parameters & $\\phi$ & Curvature of disutility of labor   & {} \\\\\\\\ \\n\".format(round(o0.x[0],2)) )\n",
    "    f.write( \" & $A$    & Scale of disutility of labor       & {} \\\\\\\\ \\n\".format(round(o0.x[1],3)) )\n",
    "    f.write( \" & $\\sigma$ & Variance of productivity shock     & {} \\\\\\\\ \\n \".format(round(o0.x[2],3)) )\n",
    "    f.write( \" & $\\mu$    & Location parameter of distribution & {} \\\\\\\\ \\n\".format(round(c[0].loc,3)) )\n",
    "\n",
    "    f.write( \" $u^* = {} $ & $\\\\reVal$ & Value of job search & {} \\\\\\\\ \\n\".format(c[0].implied_efficient_u, round(c[0].stw_.search,2))  )\n",
    "    f.write( \" $u^* = {} $ & $\\\\reVal$ &                     & {} \\\\\\\\ \\n\".format(c[1].implied_efficient_u, round(c[1].stw_.search,2))  )\n",
    "    f.write( \" $u^* = {} $ & $\\\\reVal$ &                     & {} \\\\\\\\ \\n\".format(c[2].implied_efficient_u, round(c[2].stw_.search,2))  )\n",
    "    \n",
    "    # table end + caption + label\n",
    "    f.write( \"\\t \\t \\\\bottomrule \\n\" )\n",
    "    f.write( \"\\t \\\\end{tabular} \\n\" ) \n",
    "    f.write( \"\\t \\\\caption{Parameters of the calibrated model with $\\theta \\sim \\operatorname{LogNormal}(\\mu, \\sigma)$.} \\n\" )\n",
    "    f.write( \"\\t \\\\label{tab:estimates} \\n\")\n",
    "    f.write( \"\\\\end{table}\" )\n"
   ]
  },
  {
   "cell_type": "markdown",
   "id": "19c7bddc-be40-46cb-b487-683e8df4bc44",
   "metadata": {},
   "source": [
    "### Optimal transfers"
   ]
  },
  {
   "cell_type": "code",
   "execution_count": null,
   "id": "daf1cae8-e29a-412e-a658-114054671b71",
   "metadata": {},
   "outputs": [],
   "source": [
    "plt.plot"
   ]
  },
  {
   "cell_type": "code",
   "execution_count": null,
   "id": "e8b123d3-d7fc-4f00-96df-dea15ed1c890",
   "metadata": {},
   "outputs": [],
   "source": []
  },
  {
   "cell_type": "code",
   "execution_count": null,
   "id": "340e1fac-e7ae-42a3-8ca7-f078bd82773f",
   "metadata": {},
   "outputs": [
    {
     "name": "stderr",
     "output_type": "stream",
     "text": [
      "C:\\Users\\szuzek\\AppData\\Local\\Temp/ipykernel_12296/1903620629.py:2: RuntimeWarning: divide by zero encountered in true_divide\n",
      "  relhours = np.array(cal.stw_.q)/np.array(cal.stw_.qeff).reshape(1,-1)\n",
      "C:\\Users\\szuzek\\AppData\\Local\\Temp/ipykernel_12296/1903620629.py:2: RuntimeWarning: invalid value encountered in true_divide\n",
      "  relhours = np.array(cal.stw_.q)/np.array(cal.stw_.qeff).reshape(1,-1)\n"
     ]
    },
    {
     "data": {
      "image/png": "[encoded data removed]",
      "text/plain": [
       "<Figure size 432x288 with 1 Axes>"
      ]
     },
     "metadata": {
      "needs_background": "light"
     },
     "output_type": "display_data"
    }
   ],
   "source": [
    "for cal in c:\n",
    "    relhours = np.array(cal.stw_.q)/np.array(cal.stw_.qeff).reshape(1,-1)\n",
    "    replacement_rate = np.array(cal.stw_.t)/(cal.stw_.U - cal.stw_.search)\n",
    "    plt.scatter(relhours, replacement_rate, label = str(cal.implied_efficient_u) + str(cal.stw_.tau))\n",
    "    plt.legend()"
   ]
  },
  {
   "cell_type": "code",
   "execution_count": null,
   "id": "88871a57-0ebf-430f-95ee-720df5789132",
   "metadata": {},
   "outputs": [
    {
     "data": {
      "text/plain": [
       "0.8243243243243243"
      ]
     },
     "execution_count": null,
     "metadata": {},
     "output_type": "execute_result"
    }
   ],
   "source": [
    "0.061/0.074"
   ]
  },
  {
   "cell_type": "code",
   "execution_count": null,
   "id": "485fe891-d99f-4f57-b2fc-498def809e37",
   "metadata": {},
   "outputs": [
    {
     "name": "stderr",
     "output_type": "stream",
     "text": [
      "C:\\Users\\szuzek\\AppData\\Local\\Temp/ipykernel_12296/4107453460.py:2: RuntimeWarning: divide by zero encountered in true_divide\n",
      "  relhours = np.array(cal.stw_.q)/np.array(cal.stw_.qeff).reshape(1,-1)\n",
      "C:\\Users\\szuzek\\AppData\\Local\\Temp/ipykernel_12296/4107453460.py:2: RuntimeWarning: invalid value encountered in true_divide\n",
      "  relhours = np.array(cal.stw_.q)/np.array(cal.stw_.qeff).reshape(1,-1)\n"
     ]
    },
    {
     "data": {
      "text/plain": [
       "<matplotlib.collections.PathCollection at 0x2b606d81880>"
      ]
     },
     "execution_count": null,
     "metadata": {},
     "output_type": "execute_result"
    },
    {
     "data": {
      "image/png": "[encoded data removed]",
      "text/plain": [
       "<Figure size 432x288 with 1 Axes>"
      ]
     },
     "metadata": {
      "needs_background": "light"
     },
     "output_type": "display_data"
    }
   ],
   "source": [
    "cal = c[5]\n",
    "relhours = np.array(cal.stw_.q)/np.array(cal.stw_.qeff).reshape(1,-1)\n",
    "replacement_rate = np.array(cal.stw_.t)/(cal.stw_.U - cal.stw_.search)\n",
    "\n",
    "plt.scatter(relhours, replacement_rate)"
   ]
  },
  {
   "cell_type": "code",
   "execution_count": null,
   "id": "3252006f-eb7d-4dbd-a770-cbcdcea83663",
   "metadata": {},
   "outputs": [],
   "source": []
  },
  {
   "cell_type": "code",
   "execution_count": null,
   "id": "3bdcd2c9-d82e-4daa-bd7e-acd24c64f96a",
   "metadata": {},
   "outputs": [],
   "source": []
  },
  {
   "cell_type": "code",
   "execution_count": null,
   "id": "b9a148d3-4d64-4213-9f67-496ea0b6df0d",
   "metadata": {},
   "outputs": [],
   "source": []
  },
  {
   "cell_type": "code",
   "execution_count": null,
   "id": "74516622-756f-49ab-8403-f780a8728154",
   "metadata": {},
   "outputs": [
    {
     "data": {
      "image/png": "[encoded data removed]",
      "text/plain": [
       "<Figure size 432x288 with 1 Axes>"
      ]
     },
     "metadata": {
      "needs_background": "light"
     },
     "output_type": "display_data"
    }
   ],
   "source": [
    "plot_gekko(c2.stw_, xlim = [0.3, 0.8], ylim = [0, 1.5]) # zoom in on the area where the action is\n"
   ]
  },
  {
   "cell_type": "code",
   "execution_count": null,
   "id": "faacd2c5-eb8b-4d3a-bad3-147ba5a8a2be",
   "metadata": {},
   "outputs": [],
   "source": []
  },
  {
   "cell_type": "code",
   "execution_count": null,
   "id": "d2d9a753-19ea-4dce-994e-178cc3de97aa",
   "metadata": {},
   "outputs": [
    {
     "name": "stderr",
     "output_type": "stream",
     "text": [
      "C:\\Users\\szuzek\\AppData\\Local\\Temp/ipykernel_9388/4151478229.py:1: RuntimeWarning: divide by zero encountered in true_divide\n",
      "  plt.plot((np.array(c.stw_.q) - np.array(c.stw_.qhat))/np.array(c.stw_.qhat), c.stw_.t)\n",
      "C:\\Users\\szuzek\\AppData\\Local\\Temp/ipykernel_9388/4151478229.py:1: RuntimeWarning: invalid value encountered in true_divide\n",
      "  plt.plot((np.array(c.stw_.q) - np.array(c.stw_.qhat))/np.array(c.stw_.qhat), c.stw_.t)\n"
     ]
    },
    {
     "data": {
      "text/plain": [
       "[<matplotlib.lines.Line2D at 0x1b48018ad60>]"
      ]
     },
     "execution_count": null,
     "metadata": {},
     "output_type": "execute_result"
    },
    {
     "data": {
      "image/png": "[encoded data removed]",
      "text/plain": [
       "<Figure size 432x288 with 1 Axes>"
      ]
     },
     "metadata": {
      "needs_background": "light"
     },
     "output_type": "display_data"
    }
   ],
   "source": [
    "plt.plot((np.array(c.stw_.q) - np.array(c.stw_.qhat))/np.array(c.stw_.qhat), c.stw_.t)"
   ]
  },
  {
   "cell_type": "markdown",
   "id": "b1750e80-e86c-429b-867d-0346a254a182",
   "metadata": {},
   "source": [
    "Plot distribution and cutoffs"
   ]
  },
  {
   "cell_type": "code",
   "execution_count": null,
   "id": "f88acea8-82d4-4af8-9f8b-12681f0ee877",
   "metadata": {},
   "outputs": [
    {
     "data": {
      "text/plain": [
       "<matplotlib.collections.LineCollection at 0x1c9009ea520>"
      ]
     },
     "execution_count": null,
     "metadata": {},
     "output_type": "execute_result"
    },
    {
     "data": {
      "image/png": "[encoded data removed]",
      "text/plain": [
       "<Figure size 432x288 with 1 Axes>"
      ]
     },
     "metadata": {
      "needs_background": "light"
     },
     "output_type": "display_data"
    }
   ],
   "source": [
    "plt.plot(c.stw_.theta, c.stw_.qhat)\n",
    "plt.plot(c.stw_.theta, c.stw_.f)\n",
    "plt.vlines(c.theta0, 0, 1)\n",
    "plt.vlines(c.thetaeff, 0, 1)"
   ]
  },
  {
   "cell_type": "code",
   "execution_count": null,
   "id": "a809fb4c-d7eb-4884-bf77-74f40a74d668",
   "metadata": {},
   "outputs": [],
   "source": []
  },
  {
   "cell_type": "code",
   "execution_count": null,
   "id": "2be73b6b",
   "metadata": {},
   "outputs": [
    {
     "data": {
      "image/png": "[encoded data removed]",
      "text/plain": [
       "<Figure size 432x288 with 1 Axes>"
      ]
     },
     "metadata": {
      "needs_background": "light"
     },
     "output_type": "display_data"
    },
    {
     "data": {
      "image/png": "[encoded data removed]",
      "text/plain": [
       "<Figure size 432x288 with 1 Axes>"
      ]
     },
     "metadata": {
      "needs_background": "light"
     },
     "output_type": "display_data"
    }
   ],
   "source": [
    "plot_presi(c.stw_, which = \"n\")\n",
    "plot_presi(c.stw_, which = \"transfers\")"
   ]
  },
  {
   "cell_type": "code",
   "execution_count": null,
   "id": "47bace04-a0ae-4ce7-bbb4-80c52dbf1a03",
   "metadata": {},
   "outputs": [],
   "source": []
  },
  {
   "cell_type": "code",
   "execution_count": null,
   "id": "2c2a21cc-3b4c-4fa0-a513-0cf68a8868d9",
   "metadata": {},
   "outputs": [],
   "source": []
  },
  {
   "cell_type": "markdown",
   "id": "1cf03d4b-09d0-482e-9b4f-3bdea8a7895e",
   "metadata": {},
   "source": [
    "### Check that the hazard rate is monotone"
   ]
  },
  {
   "cell_type": "code",
   "execution_count": null,
   "id": "572fe4b6",
   "metadata": {},
   "outputs": [
    {
     "data": {
      "text/plain": [
       "Text(0.5, 1.0, 'Check Hazard Rates (monotonicity)')"
      ]
     },
     "execution_count": null,
     "metadata": {},
     "output_type": "execute_result"
    },
    {
     "data": {
      "image/png": "[encoded data removed]",
      "text/plain": [
       "<Figure size 432x288 with 1 Axes>"
      ]
     },
     "metadata": {
      "needs_background": "light"
     },
     "output_type": "display_data"
    }
   ],
   "source": [
    "grid = np.array(c[0].stw_.theta)\n",
    "hr1 = c[0].dist.cdf(grid) / c[0].dist.pdf(grid)  # F/f\n",
    "hr2 = (1-c[0].dist.cdf(grid))/ c[0].dist.pdf(grid) # (1-F)/f\n",
    "\n",
    "plt.plot(grid, np.log(hr1))\n",
    "plt.plot(grid, np.log(hr2))\n",
    "plt.title(\"Check Hazard Rates (monotonicity)\")"
   ]
  },
  {
   "cell_type": "markdown",
   "id": "6f67344a",
   "metadata": {},
   "source": [
    "## Test with analytical solution"
   ]
  },
  {
   "cell_type": "markdown",
   "id": "14329e18",
   "metadata": {},
   "source": [
    "$$    \\psi(x) = F^{-1}\\left((x-c'(0))\\frac{1+\\tau}{\\tau}f(x) + F(x)\\right).$$"
   ]
  },
  {
   "cell_type": "markdown",
   "id": "262a8491",
   "metadata": {},
   "source": [
    "$$     n^*(\\theta) = c'^{-1}\\left(\\theta - \\frac{\\tau}{1+\\tau}\\frac{\\psi(\\theta_1) - F(\\theta)}{f(\\theta)}\\right)\n",
    " $$ "
   ]
  },
  {
   "cell_type": "markdown",
   "id": "e256fecd",
   "metadata": {},
   "source": [
    "$$\\chi(\\theta_1) \\equiv \\int_{\\theta_1}^{\\psi(\\theta_1)} n^*(\\theta) d\\theta -  \\int_{\\theta_0}^{\\psi(\\theta_1)} c'^{-1}(\\theta) d\\theta$$"
   ]
  },
  {
   "cell_type": "markdown",
   "id": "fc9639cb",
   "metadata": {},
   "source": [
    "#### TestCase"
   ]
  },
  {
   "cell_type": "code",
   "execution_count": null,
   "id": "c91acd6e",
   "metadata": {},
   "outputs": [],
   "source": [
    "class Testfunctions():\n",
    "    def intervall_approx(stw, eps = 0.01):\n",
    "        ''' Find the upper and lower bound of the interval where state != outside option \n",
    "        Careful: Beware of the approximation error! \n",
    "        '''\n",
    "        # notbinding = np.array(stw.theta)[np.abs(np.array(stw.sa) - np.array(stw.oo)) > eps]\n",
    "        notbinding = np.array(stw.theta)[np.abs(np.array(stw.q) - np.array(stw.qhat)) > eps]\n",
    "        oo_larger_zero = np.array(stw.theta)[np.abs(np.array(stw.oo)) > eps/100]\n",
    "\n",
    "        theta1 = notbinding[0]\n",
    "        theta2 = notbinding[-1]\n",
    "        theta0 = oo_larger_zero[0]\n",
    "        return theta1, theta2, theta0\n",
    "    \n",
    "    def intervall_approx(stw, eps = 0.01):\n",
    "        ''' Find the upper and lower bound of the interval where state != outside option \n",
    "        Careful: Beware of the approximation error! \n",
    "        '''\n",
    "        # notbinding = np.array(stw.theta)[np.abs(np.array(stw.sa) - np.array(stw.oo)) > eps]\n",
    "        notbinding = np.array(stw.theta)[np.abs(np.array(stw.q) - np.array(stw.qhat)) > eps]\n",
    "        oo_larger_zero = np.array(stw.theta)[np.abs(np.array(stw.oo)) > eps/100]\n",
    "\n",
    "        theta1 = notbinding[0]\n",
    "        theta2 = notbinding[-1]\n",
    "        theta0 = oo_larger_zero[0]\n",
    "        return theta1, theta2, theta0\n",
    "    \n",
    "    def nstarfunction_uniform(theta, theta1, stw):\n",
    "        A, phi, tau = stw.A, stw.phi, stw.tau\n",
    "        x = theta -  tau/(1+tau) * (Testfunctions.psifunction_uniform(theta1, stw) - theta)\n",
    "        nstar = (x/(phi*A))**(1/(phi-1))\n",
    "        return nstar\n",
    "\n",
    "    def psifunction_uniform(x, stw):\n",
    "        def F(x): return x \n",
    "        def f(x): return np.ones(1)\n",
    "        def Finv(x): return x\n",
    "        tau = stw.tau\n",
    "        cprimezero = 0\n",
    "        return Finv((x-cprimezero)*((1+tau)/tau) * f(x) + F(x))[0]\n",
    "    \n",
    "    def cprimeinverse(x, stw): \n",
    "        A, phi = stw.A, stw.phi\n",
    "        return (x/(phi*A))**(1/(phi-1))\n",
    "\n",
    "    def Xi_uniform(theta1, stw): \n",
    "        ''' Setup theta1 as a root finding problem\n",
    "        '''\n",
    "        _, _, theta0 = Testfunctions.intervall_approx(stw, eps = 0.001)\n",
    "        theta2 = Testfunctions.psifunction_uniform(theta1, stw)\n",
    "        integral1, _ = integrate.quad(lambda x: Testfunctions.nstarfunction_uniform(x, theta1, stw), theta1, theta2)\n",
    "        integral2, _ = integrate.quad(lambda x: Testfunctions.cprimeinverse(x, stw), theta0, theta2)\n",
    "\n",
    "        return np.abs(integral1 - integral2)\n",
    "    \n",
    "    def theta1function_old(stw): \n",
    "        A = stw.A*2\n",
    "        tau = stw.tau\n",
    "        U = stw.U\n",
    "        divisor = ((1/(2*A)) * ( ((1+2*tau)/tau)**2 - (1+2*tau)**3/(tau*tau*(1+tau)) + 2* (1+2*tau)**2/(tau*(1+tau)) + (1+2*tau)/(1+tau) - 2*(1+2*tau)/(1+tau)  )     )\n",
    "        # divisor = ((1/(2*A)) * ( ((1+2*tau)/tau)**2 - (1+2*tau)**2/(tau*(1+tau)) + 2* (1+2*tau)**2/tau + (1+2*tau)/(1+tau) - 2*(1+2*tau)/(1+tau)  )     )\n",
    "        # divisor = ((1/(2*A)) * (((1+2*tau)/tau)**2 - ((1+2*tau)/tau)*(1+2*tau)/(1+tau) + 2*(1+2*tau)**2/tau + (1+2*tau)/(1+tau) - 2*(1+2*tau)/(1+tau)))\n",
    "        # divisor = ((1/(2*A)) * (((1+tau)/tau)**2 - ((1+tau)/tau**2)*(1+2*tau) + 2*(1+tau)/tau + (1+2*tau)/(1+tau) - 2))\n",
    "        return np.sqrt((U/(2-A**2)) / divisor)\n",
    "    \n",
    "    def plot_xi_parts(stw, lower, upper):\n",
    "        _, _, theta0 = Testfunctions.intervall_approx(stw, eps = 0.001)\n",
    "\n",
    "        def left(theta1): \n",
    "            return integrate.quad(lambda x: Testfunctions.nstarfunction_uniform(x, theta1, stw), theta1, Testfunctions.psifunction_uniform(theta1, stw))\n",
    "        def right(theta1):\n",
    "            return integrate.quad(lambda x: Testfunctions.cprimeinverse(x, stw), theta0, Testfunctions.psifunction_uniform(theta1, stw))\n",
    "\n",
    "            \n",
    "        grid = np.linspace(lower, upper, 501)\n",
    "        plt.plot(grid, [left(x)[-1]  for x in grid], label = \"nstar_integral\")\n",
    "        plt.plot(grid, [right(x)[-1]  for x in grid], label = \"nhat_integral\")\n",
    "        # plt.plot(grid, [Testfunctions.psifunction_uniform(x, stw) for x in grid])\n",
    "        plt.legend()\n",
    "        plt.xlabel('Theta')\n",
    "\n"
   ]
  },
  {
   "cell_type": "code",
   "execution_count": null,
   "id": "3621f1f4",
   "metadata": {},
   "outputs": [
    {
     "name": "stderr",
     "output_type": "stream",
     "text": [
      "testHoursBelowUpperBound (__main__.stwTestCase)\n",
      "Important: qup has to be set high enough for interior solutions! ... ok\n",
      "testNstar (__main__.stwTestCase) ... ok\n",
      "testPsiFunction (__main__.stwTestCase) ... ok\n",
      "testTheta1 (__main__.stwTestCase) ... ok\n",
      "testTheta2differentFromUpperBound (__main__.stwTestCase)\n",
      "Test if theta2 is different from the upper bound. Only a numerical problem sometimes due to imprecision ... ok\n",
      "\n",
      "----------------------------------------------------------------------\n",
      "Ran 5 tests in 67.510s\n",
      "\n",
      "OK\n"
     ]
    },
    {
     "data": {
      "text/plain": [
       "<unittest.main.TestProgram at 0x1c90015d610>"
      ]
     },
     "execution_count": null,
     "metadata": {},
     "output_type": "execute_result"
    }
   ],
   "source": [
    "class stwTestCase(unittest.TestCase):\n",
    "    \n",
    "    # called before each test\n",
    "    def setUp(self):\n",
    "        stw = STW(display = False, A=0.1, U = 0.3, cont = 0.0, beta = 0.0, tau = 0.5, phi = 2.0, qup = 7, nt = 1001, search = 0, participation = \"forced\") # run our solution\n",
    "        stw.init_gekko()\n",
    "        stw.solve_gekko()\n",
    "        self.stw = stw\n",
    "        \n",
    "        self.theta1, self.theta2, self.theta0 = Testfunctions.intervall_approx(self.stw, eps = 0.005)\n",
    "        self.thetas = np.array(self.stw.theta.value)\n",
    "    \n",
    "\n",
    "    def testNstar(self): \n",
    "        # given \n",
    "        theta1, theta2, thetas = self.theta1, self.theta2, self.thetas \n",
    "        interval = (thetas>theta1) & (thetas<theta2)\n",
    "        nstar = Testfunctions.nstarfunction_uniform(thetas[interval], theta1, self.stw)\n",
    "        nhat = np.array(self.stw.q.value)[interval]\n",
    "        \n",
    "        # margin\n",
    "        NstarEps = 0.01\n",
    "\n",
    "        # then\n",
    "        self.assertLess(np.max(np.abs(nstar - nhat)), NstarEps)\n",
    "        \n",
    "    def testPsiFunction(self):\n",
    "        # given \n",
    "        theta1, theta2 = self.theta1, self.theta2 \n",
    "        # when\n",
    "        theta2approx = Testfunctions.psifunction_uniform(theta1, self.stw)\n",
    "        # then\n",
    "        self.assertLess(np.abs(theta2 - theta2approx), 0.01)\n",
    "    \n",
    "    def testTheta1(self):\n",
    "        # given\n",
    "        theta1 = self.theta1\n",
    "\n",
    "        #when\n",
    "        opt = optimize.fsolve(lambda x: Testfunctions.Xi_uniform(x, self.stw), 0.3)\n",
    "        \n",
    "        self.assertLess(np.abs(self.theta1 - opt), 0.01)\n",
    "    \n",
    "    def testTheta2differentFromUpperBound(self):\n",
    "        ''' Test if theta2 is different from the upper bound. Only a numerical problem sometimes due to imprecision \n",
    "        '''\n",
    "        # given \n",
    "        theta2 = self.theta2\n",
    "        # when\n",
    "        \n",
    "        # then\n",
    "        self.assertGreater(np.abs(theta2 - self.stw.upper), 0.02)\n",
    "    \n",
    "    def testHoursBelowUpperBound(self):\n",
    "        ''' Important: qup has to be set high enough for interior solutions!'''\n",
    "        # given\n",
    "        highestq = np.max(np.array(self.stw.q.value))\n",
    "        qup = np.array(self.stw.qup)\n",
    "        # then\n",
    "        self.assertLess(highestq, qup - 0.01)\n",
    "        \n",
    "    \n",
    "unittest.main(argv=[''], verbosity=2, exit=False)"
   ]
  },
  {
   "cell_type": "markdown",
   "id": "e892169c",
   "metadata": {},
   "source": [
    "# Export to html"
   ]
  },
  {
   "cell_type": "code",
   "execution_count": null,
   "id": "ee7c3426",
   "metadata": {},
   "outputs": [
    {
     "name": "stderr",
     "output_type": "stream",
     "text": [
      "[NbConvertApp] WARNING | Config option `kernel_spec_manager_class` not recognized by `NbConvertApp`.\n",
      "[NbConvertApp] Converting notebook main.ipynb to markdown\n",
      "[NbConvertApp] Support files will be in main_files\\\n",
      "[NbConvertApp] Making directory main_files\n",
      "[NbConvertApp] Making directory main_files\n",
      "[NbConvertApp] Making directory main_files\n",
      "[NbConvertApp] Making directory main_files\n",
      "[NbConvertApp] Making directory main_files\n",
      "[NbConvertApp] Making directory main_files\n",
      "[NbConvertApp] Making directory main_files\n",
      "[NbConvertApp] Making directory main_files\n",
      "[NbConvertApp] Making directory main_files\n",
      "[NbConvertApp] Making directory main_files\n",
      "[NbConvertApp] Making directory main_files\n",
      "[NbConvertApp] Making directory main_files\n",
      "[NbConvertApp] Making directory main_files\n",
      "[NbConvertApp] Making directory main_files\n",
      "[NbConvertApp] Making directory main_files\n",
      "[NbConvertApp] Making directory main_files\n",
      "[NbConvertApp] Making directory main_files\n",
      "[NbConvertApp] Making directory main_files\n",
      "[NbConvertApp] Making directory main_files\n",
      "[NbConvertApp] Writing 26106 bytes to main.md\n"
     ]
    }
   ],
   "source": [
    "!jupyter nbconvert --to markdown main.ipynb"
   ]
  },
  {
   "cell_type": "code",
   "execution_count": null,
   "id": "54339999-66ed-4146-8bea-4faf8d254719",
   "metadata": {},
   "outputs": [],
   "source": []
  }
 ],
 "metadata": {
  "kernelspec": {
   "display_name": "Python 3",
   "language": "python",
   "name": "python3"
  }
 },
 "nbformat": 4,
 "nbformat_minor": 5
}
